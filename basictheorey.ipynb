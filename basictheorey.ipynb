{
 "cells": [
  {
   "cell_type": "code",
   "execution_count": 2,
   "id": "ad1043cb-3a5c-4ca4-90ab-98fda5c736c8",
   "metadata": {},
   "outputs": [],
   "source": [
    "Who developed python programming language?\n",
    "\n",
    "python programming language was developed by Guido van Rossum."
   ]
  },
  {
   "cell_type": "code",
   "execution_count": null,
   "id": "f35d1719-d455-40e5-8c9b-cf9af5efc262",
   "metadata": {},
   "outputs": [],
   "source": [
    "Which type of programming does python support?\n",
    "\n",
    "Python is an interpreted programming language, supporting object-oriented, structured, and functional programming."
   ]
  },
  {
   "cell_type": "code",
   "execution_count": null,
   "id": "15c999d4-6177-4877-9dca-a5fd44938cd7",
   "metadata": {},
   "outputs": [],
   "source": [
    "Is python case sensitive when dealing with identifiers?\n",
    "\n",
    "Yes, Python is a case-sensitive language, i.e., it treats uppercase and lowercase characters differently. This applies to identifiers too. "
   ]
  },
  {
   "cell_type": "code",
   "execution_count": null,
   "id": "4284c143-a293-446c-bcf5-03cf817d6c94",
   "metadata": {},
   "outputs": [],
   "source": [
    "What is the correct extension of python file used?\n",
    "\n",
    ".py is the correct extension used for the python files."
   ]
  },
  {
   "cell_type": "code",
   "execution_count": null,
   "id": "1ba9125f-bcd3-4965-a8b9-a09fa8e711e5",
   "metadata": {},
   "outputs": [],
   "source": [
    "Is python code compiled or interpreted?\n",
    "\n",
    "Python is an interpreted language, which means the source code of a Python program is converted into bytecode that is then executed by the Python virtual machine."
   ]
  },
  {
   "cell_type": "code",
   "execution_count": null,
   "id": "3e4fd303-ce3b-4ed5-a673-7769a3fc8b35",
   "metadata": {},
   "outputs": [],
   "source": [
    "Name a few blocks of code used to define in Python language?\n",
    "\n",
    "A block is a piece of Python program text that is executed as a unit. The following are blocks: a module, a function body, and a class definition. Each command typed interactively is a block."
   ]
  },
  {
   "cell_type": "code",
   "execution_count": null,
   "id": "51b8f84b-7cf2-4a2a-902d-9be2463839c2",
   "metadata": {},
   "outputs": [],
   "source": [
    "State a character used to give single line comments in python?\n",
    "\n",
    "Hash character(\"#\") is used to comment the line in the Python program."
   ]
  },
  {
   "cell_type": "code",
   "execution_count": null,
   "id": "bc51ed89-031d-4fb1-8080-77fb633ad257",
   "metadata": {},
   "outputs": [],
   "source": [
    "Mention function which can he;p us to find all the version of python that we are currently working on?\n",
    "\n",
    "function sys.version"
   ]
  },
  {
   "cell_type": "code",
   "execution_count": null,
   "id": "fbca35e3-1402-4c2c-a233-b0ce15e24a7b",
   "metadata": {},
   "outputs": [],
   "source": [
    "Python supports the creation of anonymous functions at runtime, using a constant called______________\n",
    "\n",
    "Lambda"
   ]
  },
  {
   "cell_type": "code",
   "execution_count": null,
   "id": "a3fb1021-334b-451b-9a3f-32198ae67db1",
   "metadata": {},
   "outputs": [],
   "source": [
    "What does pip stand for python?\n",
    "\n",
    "pip stands for preffered installer program."
   ]
  },
  {
   "cell_type": "code",
   "execution_count": null,
   "id": "d27afa30-ccfc-4604-acc2-5cc6699d951c",
   "metadata": {},
   "outputs": [],
   "source": [
    "Mention a few built-in functions in python?\n",
    "\n",
    "print( ) function\n",
    "type( ) function\n",
    "input( ) function\n",
    "abs( ) function\n",
    "pow( ) function\n",
    "dir( ) function\n",
    "sorted( ) function\n",
    "max( ) function\n",
    "round( ) function\n",
    "divmod( ) function\n",
    "id( ) function\n",
    "ord( ) function\n",
    "len( ) function\n",
    "sum( ) function\n",
    "help( ) function"
   ]
  },
  {
   "cell_type": "code",
   "execution_count": null,
   "id": "36f58be1-b2f1-4761-b696-fda7aee1307b",
   "metadata": {},
   "outputs": [],
   "source": [
    "What is the maximum possible length of an identifier in python?\n",
    "\n",
    "The maximum possible length of an identifier in the pyhton languge is of 79 characters"
   ]
  },
  {
   "cell_type": "code",
   "execution_count": null,
   "id": "8fd8539c-30d6-4a91-82c6-7347150a66ce",
   "metadata": {},
   "outputs": [],
   "source": [
    "What are the benefits of using python?\n",
    "\n",
    "The benefits of using python are as follows:\n",
    "\n",
    "    Easy to Learn and Use\n",
    "Mature and Supportive Python Community\n",
    "Support from Renowned Corporate Sponsors\n",
    "Hundreds of Python Libraries and Frameworks\n",
    "Versatility, Efficiency, Reliability, and Speed\n",
    "Big data, Machine Learning and Cloud Computing\n",
    "First-choice Language\n",
    "The Flexibility of Python Language\n",
    "Use of python in academics\n",
    " It is interpreted"
   ]
  },
  {
   "cell_type": "code",
   "execution_count": null,
   "id": "3685d749-c1ef-4998-9e9a-1fa136ab7e69",
   "metadata": {},
   "outputs": [],
   "source": [
    "How is memory managed in python?\n",
    "\n",
    "Memory in Python is managed by Python private heap space. All Python objects and data structures are located in a private heap. This private heap is taken care of by Python Interpreter itself, and a programmer doesn't have access to this private heap"
   ]
  },
  {
   "cell_type": "code",
   "execution_count": null,
   "id": "0e8c7a14-0f80-4baf-968a-08cafa6ffcd3",
   "metadata": {},
   "outputs": [],
   "source": [
    "How to install python on windows and set path variable?\n",
    "\n",
    "The complete path of python.exe can be added by:\n",
    "\n",
    "Right-clicking This PC and going to Properties.\n",
    "\n",
    "Clicking on the Advanced system settings in the menu on the left.\n",
    "\n",
    "Clicking on the Environment Variables button o​n the bottom right.\n",
    "\n",
    "In the System variables section, selecting the Path variable and clicking on Edit. The next screen will show all the directories that are currently a part of the PATH variable.\n",
    "\n",
    "Clicking on New and entering Python’s install directory."
   ]
  },
  {
   "cell_type": "code",
   "execution_count": null,
   "id": "274d4880-6979-4fb2-ae8f-8d2240ab1976",
   "metadata": {},
   "outputs": [],
   "source": [
    "Is indendation required in pyhton?\n",
    "\n",
    "Indentation is crucial to interpretation of Python - an indented block indicates which lines of your code fall in which conditional structures, loops, etc. It can't be ignored"
   ]
  }
 ],
 "metadata": {
  "kernelspec": {
   "display_name": "Python 3 (ipykernel)",
   "language": "python",
   "name": "python3"
  },
  "language_info": {
   "codemirror_mode": {
    "name": "ipython",
    "version": 3
   },
   "file_extension": ".py",
   "mimetype": "text/x-python",
   "name": "python",
   "nbconvert_exporter": "python",
   "pygments_lexer": "ipython3",
   "version": "3.10.8"
  }
 },
 "nbformat": 4,
 "nbformat_minor": 5
}
